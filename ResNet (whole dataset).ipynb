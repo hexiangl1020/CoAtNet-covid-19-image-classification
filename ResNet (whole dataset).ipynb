{
 "cells": [
  {
   "cell_type": "code",
   "execution_count": 1,
   "id": "1f6f9a97",
   "metadata": {},
   "outputs": [],
   "source": [
    "# imports\n",
    "import numpy as np\n",
    "import pandas as pd\n",
    "import os\n",
    "import PIL\n",
    "import cv2\n",
    "import tensorflow as tf\n",
    "from tensorflow import keras\n",
    "from tensorflow.keras.optimizers import Adam\n",
    "from tensorflow.keras.preprocessing.image import ImageDataGenerator\n",
    "import matplotlib.pyplot as plt\n",
    "from matplotlib.pyplot import imshow\n",
    "from sklearn.model_selection import train_test_split\n",
    "import matplotlib.pyplot as plt\n",
    "from matplotlib.pyplot import imshow\n",
    "import shutil\n",
    "from sklearn.metrics import confusion_matrix, classification_report"
   ]
  },
  {
   "cell_type": "code",
   "execution_count": 2,
   "id": "973e5162",
   "metadata": {},
   "outputs": [
    {
     "name": "stdout",
     "output_type": "stream",
     "text": [
      "Requirement already satisfied: tensorflow in /home/ec2-user/anaconda3/envs/tensorflow2_p36/lib/python3.6/site-packages (2.6.2)\n",
      "Requirement already satisfied: protobuf>=3.9.2 in /home/ec2-user/anaconda3/envs/tensorflow2_p36/lib/python3.6/site-packages (from tensorflow) (3.15.2)\n",
      "Requirement already satisfied: termcolor~=1.1.0 in /home/ec2-user/anaconda3/envs/tensorflow2_p36/lib/python3.6/site-packages (from tensorflow) (1.1.0)\n",
      "Requirement already satisfied: astunparse~=1.6.3 in /home/ec2-user/anaconda3/envs/tensorflow2_p36/lib/python3.6/site-packages (from tensorflow) (1.6.3)\n",
      "Requirement already satisfied: wheel~=0.35 in /home/ec2-user/anaconda3/envs/tensorflow2_p36/lib/python3.6/site-packages (from tensorflow) (0.36.2)\n",
      "Requirement already satisfied: keras-preprocessing~=1.1.2 in /home/ec2-user/anaconda3/envs/tensorflow2_p36/lib/python3.6/site-packages (from tensorflow) (1.1.2)\n",
      "Requirement already satisfied: wrapt~=1.12.1 in /home/ec2-user/anaconda3/envs/tensorflow2_p36/lib/python3.6/site-packages (from tensorflow) (1.12.1)\n",
      "Requirement already satisfied: h5py~=3.1.0 in /home/ec2-user/anaconda3/envs/tensorflow2_p36/lib/python3.6/site-packages (from tensorflow) (3.1.0)\n",
      "Requirement already satisfied: tensorboard<2.7,>=2.6.0 in /home/ec2-user/anaconda3/envs/tensorflow2_p36/lib/python3.6/site-packages (from tensorflow) (2.6.0)\n",
      "Requirement already satisfied: tensorflow-estimator<2.7,>=2.6.0 in /home/ec2-user/anaconda3/envs/tensorflow2_p36/lib/python3.6/site-packages (from tensorflow) (2.6.0)\n",
      "Requirement already satisfied: keras<2.7,>=2.6.0 in /home/ec2-user/anaconda3/envs/tensorflow2_p36/lib/python3.6/site-packages (from tensorflow) (2.6.0)\n",
      "Requirement already satisfied: grpcio<2.0,>=1.37.0 in /home/ec2-user/anaconda3/envs/tensorflow2_p36/lib/python3.6/site-packages (from tensorflow) (1.42.0)\n",
      "Requirement already satisfied: flatbuffers~=1.12.0 in /home/ec2-user/anaconda3/envs/tensorflow2_p36/lib/python3.6/site-packages (from tensorflow) (1.12)\n",
      "Requirement already satisfied: typing-extensions~=3.7.4 in /home/ec2-user/anaconda3/envs/tensorflow2_p36/lib/python3.6/site-packages (from tensorflow) (3.7.4.3)\n",
      "Requirement already satisfied: six~=1.15.0 in /home/ec2-user/anaconda3/envs/tensorflow2_p36/lib/python3.6/site-packages (from tensorflow) (1.15.0)\n",
      "Requirement already satisfied: gast==0.4.0 in /home/ec2-user/anaconda3/envs/tensorflow2_p36/lib/python3.6/site-packages (from tensorflow) (0.4.0)\n",
      "Requirement already satisfied: clang~=5.0 in /home/ec2-user/anaconda3/envs/tensorflow2_p36/lib/python3.6/site-packages (from tensorflow) (5.0)\n",
      "Requirement already satisfied: google-pasta~=0.2 in /home/ec2-user/anaconda3/envs/tensorflow2_p36/lib/python3.6/site-packages (from tensorflow) (0.2.0)\n",
      "Requirement already satisfied: absl-py~=0.10 in /home/ec2-user/anaconda3/envs/tensorflow2_p36/lib/python3.6/site-packages (from tensorflow) (0.15.0)\n",
      "Requirement already satisfied: opt-einsum~=3.3.0 in /home/ec2-user/anaconda3/envs/tensorflow2_p36/lib/python3.6/site-packages (from tensorflow) (3.3.0)\n",
      "Requirement already satisfied: numpy~=1.19.2 in /home/ec2-user/anaconda3/envs/tensorflow2_p36/lib/python3.6/site-packages (from tensorflow) (1.19.5)\n",
      "Requirement already satisfied: cached-property in /home/ec2-user/anaconda3/envs/tensorflow2_p36/lib/python3.6/site-packages (from h5py~=3.1.0->tensorflow) (1.5.1)\n",
      "Requirement already satisfied: setuptools>=41.0.0 in /home/ec2-user/anaconda3/envs/tensorflow2_p36/lib/python3.6/site-packages (from tensorboard<2.7,>=2.6.0->tensorflow) (49.6.0.post20210108)\n",
      "Requirement already satisfied: tensorboard-data-server<0.7.0,>=0.6.0 in /home/ec2-user/anaconda3/envs/tensorflow2_p36/lib/python3.6/site-packages (from tensorboard<2.7,>=2.6.0->tensorflow) (0.6.1)\n",
      "Requirement already satisfied: markdown>=2.6.8 in /home/ec2-user/anaconda3/envs/tensorflow2_p36/lib/python3.6/site-packages (from tensorboard<2.7,>=2.6.0->tensorflow) (3.3.6)\n",
      "Requirement already satisfied: requests<3,>=2.21.0 in /home/ec2-user/anaconda3/envs/tensorflow2_p36/lib/python3.6/site-packages (from tensorboard<2.7,>=2.6.0->tensorflow) (2.26.0)\n",
      "Requirement already satisfied: werkzeug>=0.11.15 in /home/ec2-user/anaconda3/envs/tensorflow2_p36/lib/python3.6/site-packages (from tensorboard<2.7,>=2.6.0->tensorflow) (2.0.2)\n",
      "Requirement already satisfied: google-auth<2,>=1.6.3 in /home/ec2-user/anaconda3/envs/tensorflow2_p36/lib/python3.6/site-packages (from tensorboard<2.7,>=2.6.0->tensorflow) (1.35.0)\n",
      "Requirement already satisfied: tensorboard-plugin-wit>=1.6.0 in /home/ec2-user/anaconda3/envs/tensorflow2_p36/lib/python3.6/site-packages (from tensorboard<2.7,>=2.6.0->tensorflow) (1.8.1)\n",
      "Requirement already satisfied: google-auth-oauthlib<0.5,>=0.4.1 in /home/ec2-user/anaconda3/envs/tensorflow2_p36/lib/python3.6/site-packages (from tensorboard<2.7,>=2.6.0->tensorflow) (0.4.6)\n",
      "Requirement already satisfied: cachetools<5.0,>=2.0.0 in /home/ec2-user/anaconda3/envs/tensorflow2_p36/lib/python3.6/site-packages (from google-auth<2,>=1.6.3->tensorboard<2.7,>=2.6.0->tensorflow) (4.2.4)\n",
      "Requirement already satisfied: rsa<5,>=3.1.4 in /home/ec2-user/anaconda3/envs/tensorflow2_p36/lib/python3.6/site-packages (from google-auth<2,>=1.6.3->tensorboard<2.7,>=2.6.0->tensorflow) (4.7.2)\n",
      "Requirement already satisfied: pyasn1-modules>=0.2.1 in /home/ec2-user/anaconda3/envs/tensorflow2_p36/lib/python3.6/site-packages (from google-auth<2,>=1.6.3->tensorboard<2.7,>=2.6.0->tensorflow) (0.2.8)\n",
      "Requirement already satisfied: requests-oauthlib>=0.7.0 in /home/ec2-user/anaconda3/envs/tensorflow2_p36/lib/python3.6/site-packages (from google-auth-oauthlib<0.5,>=0.4.1->tensorboard<2.7,>=2.6.0->tensorflow) (1.3.0)\n",
      "Requirement already satisfied: importlib-metadata>=4.4 in /home/ec2-user/anaconda3/envs/tensorflow2_p36/lib/python3.6/site-packages (from markdown>=2.6.8->tensorboard<2.7,>=2.6.0->tensorflow) (4.8.2)\n",
      "Requirement already satisfied: urllib3<1.27,>=1.21.1 in /home/ec2-user/anaconda3/envs/tensorflow2_p36/lib/python3.6/site-packages (from requests<3,>=2.21.0->tensorboard<2.7,>=2.6.0->tensorflow) (1.26.8)\n",
      "Requirement already satisfied: idna<4,>=2.5 in /home/ec2-user/anaconda3/envs/tensorflow2_p36/lib/python3.6/site-packages (from requests<3,>=2.21.0->tensorboard<2.7,>=2.6.0->tensorflow) (3.1)\n",
      "Requirement already satisfied: certifi>=2017.4.17 in /home/ec2-user/anaconda3/envs/tensorflow2_p36/lib/python3.6/site-packages (from requests<3,>=2.21.0->tensorboard<2.7,>=2.6.0->tensorflow) (2021.5.30)\n",
      "Requirement already satisfied: charset-normalizer~=2.0.0 in /home/ec2-user/anaconda3/envs/tensorflow2_p36/lib/python3.6/site-packages (from requests<3,>=2.21.0->tensorboard<2.7,>=2.6.0->tensorflow) (2.0.9)\n",
      "Requirement already satisfied: dataclasses in /home/ec2-user/anaconda3/envs/tensorflow2_p36/lib/python3.6/site-packages (from werkzeug>=0.11.15->tensorboard<2.7,>=2.6.0->tensorflow) (0.8)\n",
      "Requirement already satisfied: zipp>=0.5 in /home/ec2-user/anaconda3/envs/tensorflow2_p36/lib/python3.6/site-packages (from importlib-metadata>=4.4->markdown>=2.6.8->tensorboard<2.7,>=2.6.0->tensorflow) (3.4.0)\n",
      "Requirement already satisfied: pyasn1<0.5.0,>=0.4.6 in /home/ec2-user/anaconda3/envs/tensorflow2_p36/lib/python3.6/site-packages (from pyasn1-modules>=0.2.1->google-auth<2,>=1.6.3->tensorboard<2.7,>=2.6.0->tensorflow) (0.4.8)\n",
      "Requirement already satisfied: oauthlib>=3.0.0 in /home/ec2-user/anaconda3/envs/tensorflow2_p36/lib/python3.6/site-packages (from requests-oauthlib>=0.7.0->google-auth-oauthlib<0.5,>=0.4.1->tensorboard<2.7,>=2.6.0->tensorflow) (3.1.1)\n",
      "Note: you may need to restart the kernel to use updated packages.\n"
     ]
    }
   ],
   "source": [
    "pip install --upgrade tensorflow"
   ]
  },
  {
   "cell_type": "code",
   "execution_count": 3,
   "id": "b5bad987",
   "metadata": {},
   "outputs": [],
   "source": [
    "# create train_df and test_df\n",
    "\n",
    "train_df = pd.read_csv('train_COVIDx9A.txt', sep=\" \", header=None)\n",
    "#Columns are added because it was seen that column names were 0,1,2,3, so new column names are added\n",
    "#which are given in descriptions\n",
    "train_df.columns=['patient id', 'filename', 'class', 'data source']\n",
    "# Since we are doing image classification, patient id and data source is of no importance to us, so\n",
    "#we cn drop them\n",
    "train_df=train_df.drop(['patient id', 'data source'], axis=1 )\n",
    "\n",
    "test_df = pd.read_csv('test_COVIDx9A.txt', sep=\" \", header=None)\n",
    "test_df.columns=['id', 'filename', 'class', 'data source' ]\n",
    "test_df=test_df.drop(['id', 'data source'], axis=1 )"
   ]
  },
  {
   "cell_type": "code",
   "execution_count": 4,
   "id": "61cf5008",
   "metadata": {},
   "outputs": [
    {
     "data": {
      "text/html": [
       "<div>\n",
       "<style scoped>\n",
       "    .dataframe tbody tr th:only-of-type {\n",
       "        vertical-align: middle;\n",
       "    }\n",
       "\n",
       "    .dataframe tbody tr th {\n",
       "        vertical-align: top;\n",
       "    }\n",
       "\n",
       "    .dataframe thead th {\n",
       "        text-align: right;\n",
       "    }\n",
       "</style>\n",
       "<table border=\"1\" class=\"dataframe\">\n",
       "  <thead>\n",
       "    <tr style=\"text-align: right;\">\n",
       "      <th></th>\n",
       "      <th>filename</th>\n",
       "      <th>class</th>\n",
       "    </tr>\n",
       "  </thead>\n",
       "  <tbody>\n",
       "    <tr>\n",
       "      <th>0</th>\n",
       "      <td>SARS-10.1148rg.242035193-g04mr34g0-Fig8a-day0....</td>\n",
       "      <td>pneumonia</td>\n",
       "    </tr>\n",
       "    <tr>\n",
       "      <th>1</th>\n",
       "      <td>SARS-10.1148rg.242035193-g04mr34g0-Fig8b-day5....</td>\n",
       "      <td>pneumonia</td>\n",
       "    </tr>\n",
       "    <tr>\n",
       "      <th>2</th>\n",
       "      <td>SARS-10.1148rg.242035193-g04mr34g0-Fig8c-day10...</td>\n",
       "      <td>pneumonia</td>\n",
       "    </tr>\n",
       "    <tr>\n",
       "      <th>3</th>\n",
       "      <td>SARS-10.1148rg.242035193-g04mr34g04a-Fig4a-day...</td>\n",
       "      <td>pneumonia</td>\n",
       "    </tr>\n",
       "    <tr>\n",
       "      <th>4</th>\n",
       "      <td>SARS-10.1148rg.242035193-g04mr34g04b-Fig4b-day...</td>\n",
       "      <td>pneumonia</td>\n",
       "    </tr>\n",
       "  </tbody>\n",
       "</table>\n",
       "</div>"
      ],
      "text/plain": [
       "                                            filename      class\n",
       "0  SARS-10.1148rg.242035193-g04mr34g0-Fig8a-day0....  pneumonia\n",
       "1  SARS-10.1148rg.242035193-g04mr34g0-Fig8b-day5....  pneumonia\n",
       "2  SARS-10.1148rg.242035193-g04mr34g0-Fig8c-day10...  pneumonia\n",
       "3  SARS-10.1148rg.242035193-g04mr34g04a-Fig4a-day...  pneumonia\n",
       "4  SARS-10.1148rg.242035193-g04mr34g04b-Fig4b-day...  pneumonia"
      ]
     },
     "execution_count": 4,
     "metadata": {},
     "output_type": "execute_result"
    }
   ],
   "source": [
    "train_df.head()"
   ]
  },
  {
   "cell_type": "code",
   "execution_count": 5,
   "id": "349b4714",
   "metadata": {},
   "outputs": [
    {
     "data": {
      "text/html": [
       "<div>\n",
       "<style scoped>\n",
       "    .dataframe tbody tr th:only-of-type {\n",
       "        vertical-align: middle;\n",
       "    }\n",
       "\n",
       "    .dataframe tbody tr th {\n",
       "        vertical-align: top;\n",
       "    }\n",
       "\n",
       "    .dataframe thead th {\n",
       "        text-align: right;\n",
       "    }\n",
       "</style>\n",
       "<table border=\"1\" class=\"dataframe\">\n",
       "  <thead>\n",
       "    <tr style=\"text-align: right;\">\n",
       "      <th></th>\n",
       "      <th>filename</th>\n",
       "      <th>class</th>\n",
       "    </tr>\n",
       "  </thead>\n",
       "  <tbody>\n",
       "    <tr>\n",
       "      <th>0</th>\n",
       "      <td>MIDRC-RICORD-1C-419639-003251-46647-0.png</td>\n",
       "      <td>COVID-19</td>\n",
       "    </tr>\n",
       "    <tr>\n",
       "      <th>1</th>\n",
       "      <td>MIDRC-RICORD-1C-419639-001464-39871-0.png</td>\n",
       "      <td>COVID-19</td>\n",
       "    </tr>\n",
       "    <tr>\n",
       "      <th>2</th>\n",
       "      <td>MIDRC-RICORD-1C-419639-000918-78965-0.png</td>\n",
       "      <td>COVID-19</td>\n",
       "    </tr>\n",
       "    <tr>\n",
       "      <th>3</th>\n",
       "      <td>MIDRC-RICORD-1C-419639-003318-64285-0.png</td>\n",
       "      <td>COVID-19</td>\n",
       "    </tr>\n",
       "    <tr>\n",
       "      <th>4</th>\n",
       "      <td>MIDRC-RICORD-1C-419639-001015-81591-0.png</td>\n",
       "      <td>COVID-19</td>\n",
       "    </tr>\n",
       "  </tbody>\n",
       "</table>\n",
       "</div>"
      ],
      "text/plain": [
       "                                    filename     class\n",
       "0  MIDRC-RICORD-1C-419639-003251-46647-0.png  COVID-19\n",
       "1  MIDRC-RICORD-1C-419639-001464-39871-0.png  COVID-19\n",
       "2  MIDRC-RICORD-1C-419639-000918-78965-0.png  COVID-19\n",
       "3  MIDRC-RICORD-1C-419639-003318-64285-0.png  COVID-19\n",
       "4  MIDRC-RICORD-1C-419639-001015-81591-0.png  COVID-19"
      ]
     },
     "execution_count": 5,
     "metadata": {},
     "output_type": "execute_result"
    }
   ],
   "source": [
    "test_df.head()"
   ]
  },
  {
   "cell_type": "code",
   "execution_count": 6,
   "id": "e588a727",
   "metadata": {},
   "outputs": [
    {
     "data": {
      "text/plain": [
       "COVID-19     16490\n",
       "normal        8085\n",
       "pneumonia     5555\n",
       "Name: class, dtype: int64"
      ]
     },
     "execution_count": 6,
     "metadata": {},
     "output_type": "execute_result"
    }
   ],
   "source": [
    "train_df['class'].value_counts()"
   ]
  },
  {
   "cell_type": "code",
   "execution_count": 7,
   "id": "913a9069",
   "metadata": {},
   "outputs": [],
   "source": [
    "# downsampling and suffling\n",
    "\n",
    "covid  = train_df[train_df['class']=='COVID-19'] \n",
    "normal = train_df[train_df['class']=='normal']\n",
    "pneumonia = train_df[train_df['class']=='pneumonia']\n",
    "from sklearn.utils import resample\n",
    "#majority class that  is negative, we need to downsample/decrease that class so that there is no bias\n",
    "#n_samples = 2158 means we want 2158 sample of class negative, since there are 2158 samples of class positive\n",
    "df_covid_downsampled = resample(covid, replace = True, n_samples = 5555) \n",
    "df_normal_downsampled = resample(normal, replace = True, n_samples = 5555)\n",
    "#concatenate\n",
    "train_df = pd.concat([pneumonia, df_covid_downsampled,df_normal_downsampled])\n",
    "\n",
    "from sklearn.utils import shuffle\n",
    "train_df = shuffle(train_df) # shuffling so that there is particular sequence"
   ]
  },
  {
   "cell_type": "code",
   "execution_count": 8,
   "id": "fc3fc016",
   "metadata": {},
   "outputs": [
    {
     "data": {
      "text/plain": [
       "COVID-19     5555\n",
       "pneumonia    5555\n",
       "normal       5555\n",
       "Name: class, dtype: int64"
      ]
     },
     "execution_count": 8,
     "metadata": {},
     "output_type": "execute_result"
    }
   ],
   "source": [
    "train_df['class'].value_counts()"
   ]
  },
  {
   "cell_type": "code",
   "execution_count": 9,
   "id": "2d4437fa",
   "metadata": {},
   "outputs": [
    {
     "data": {
      "text/plain": [
       "COVID-19     200\n",
       "pneumonia    100\n",
       "normal       100\n",
       "Name: class, dtype: int64"
      ]
     },
     "execution_count": 9,
     "metadata": {},
     "output_type": "execute_result"
    }
   ],
   "source": [
    "test_df['class'].value_counts()"
   ]
  },
  {
   "cell_type": "code",
   "execution_count": 10,
   "id": "af5874ae",
   "metadata": {},
   "outputs": [],
   "source": [
    "# split a validation data\n",
    "\n",
    "train_data, valid_data = train_test_split(train_df, train_size=0.8, random_state=0)\n",
    "train_path = 'train'\n",
    "test_path = 'test'"
   ]
  },
  {
   "cell_type": "code",
   "execution_count": 11,
   "id": "df005301",
   "metadata": {},
   "outputs": [
    {
     "name": "stdout",
     "output_type": "stream",
     "text": [
      "Found 13301 validated image filenames belonging to 3 classes.\n",
      "Found 3324 validated image filenames belonging to 3 classes.\n",
      "Found 400 validated image filenames belonging to 3 classes.\n"
     ]
    },
    {
     "name": "stderr",
     "output_type": "stream",
     "text": [
      "/home/ec2-user/anaconda3/envs/tensorflow2_p36/lib/python3.6/site-packages/keras_preprocessing/image/dataframe_iterator.py:282: UserWarning: Found 31 invalid image filename(s) in x_col=\"filename\". These filename(s) will be ignored.\n",
      "  .format(n_invalid, x_col)\n",
      "/home/ec2-user/anaconda3/envs/tensorflow2_p36/lib/python3.6/site-packages/keras_preprocessing/image/dataframe_iterator.py:282: UserWarning: Found 9 invalid image filename(s) in x_col=\"filename\". These filename(s) will be ignored.\n",
      "  .format(n_invalid, x_col)\n"
     ]
    }
   ],
   "source": [
    "# get images\n",
    "\n",
    "train_datagen = ImageDataGenerator(rescale = 1./255., shear_range = 0.2)\n",
    "test_datagen = ImageDataGenerator(rescale = 1.0/255.)\n",
    "\n",
    "#Now fit the them to get the images from directory (name of the images are given in dataframe) with augmentation\n",
    "\n",
    "\n",
    "train_gen = train_datagen.flow_from_dataframe(dataframe = train_data, directory=train_path, x_col='filename', \n",
    "                                              y_col='class', target_size=(300,300), batch_size=64, \n",
    "                                               classes=['COVID-19','normal','pneumonia'])\n",
    "valid_gen = test_datagen.flow_from_dataframe(dataframe = valid_data, directory=train_path, x_col='filename',\n",
    "                                             y_col='class', target_size=(300,300), batch_size=64, \n",
    "                                            classes=['COVID-19','normal','pneumonia'])\n",
    "test_gen = test_datagen.flow_from_dataframe(dataframe = test_df, directory=test_path, x_col='filename', \n",
    "                                            y_col='class', target_size=(300,300), batch_size=32,\n",
    "                                             classes=['COVID-19','normal','pneumonia'])"
   ]
  },
  {
   "cell_type": "code",
   "execution_count": 12,
   "id": "19f7bd58",
   "metadata": {},
   "outputs": [
    {
     "name": "stdout",
     "output_type": "stream",
     "text": [
      "Downloading data from https://storage.googleapis.com/tensorflow/keras-applications/resnet/resnet50v2_weights_tf_dim_ordering_tf_kernels_notop.h5\n",
      "94674944/94668760 [==============================] - 1s 0us/step\n",
      "94683136/94668760 [==============================] - 1s 0us/step\n"
     ]
    }
   ],
   "source": [
    "# Our base model is InceptionResNetV2, new readers are encouraged to see the architecture of this particular model\n",
    "import tensorflow as tf\n",
    "\n",
    "base_model = tf.keras.applications.ResNet50V2(weights='imagenet', input_shape = (300,300,3),\n",
    "                                                     include_top=False,classifier_activation='softmax')\n",
    "for layer in base_model.layers:\n",
    "    layer.trainable = False"
   ]
  },
  {
   "cell_type": "code",
   "execution_count": 13,
   "id": "38eee6ce",
   "metadata": {},
   "outputs": [],
   "source": [
    "#Now we will add some more layers to the base model for our requirements\n",
    "\n",
    "model = tf.keras.Sequential([\n",
    "    base_model, \n",
    "    tf.keras.layers.GlobalAveragePooling2D(), \n",
    "    #tf.keras.layers.Conv2D(128, (3, 3), activation='relu', input_shape = (200,200,3)),\n",
    "    ##tf.keras.layers.MaxPool2D(pool_size=(2, 2), padding='valid'),\n",
    "    #tf.keras.layers.Flatten(),\n",
    "    tf.keras.layers.Dense(128, activation='relu'),\n",
    "    tf.keras.layers.BatchNormalization(), \n",
    "    tf.keras.layers.Dropout(0.2), \n",
    "    tf.keras.layers.Dense(3, activation='softmax')\n",
    "])\n",
    "\n",
    "callbacks = [\n",
    "    tf.keras.callbacks.ModelCheckpoint(\"covid_classifier_model.h5\", save_best_only=True, verbose = 0),\n",
    "    tf.keras.callbacks.EarlyStopping(patience=3, monitor='val_loss', mode = \"min\", verbose=1),\n",
    "    tf.keras.callbacks.ReduceLROnPlateau(monitor='val_loss', factor=0.5, patience=2, verbose=1)\n",
    "]\n",
    "\n",
    "model.compile(optimizer = keras.optimizers.Adam(learning_rate=0.001),\n",
    "              loss = 'categorical_crossentropy',\n",
    "              metrics=['accuracy'])"
   ]
  },
  {
   "cell_type": "code",
   "execution_count": 14,
   "id": "8c00332c",
   "metadata": {},
   "outputs": [],
   "source": [
    "from sklearn.utils.class_weight import compute_class_weight\n",
    "\n",
    "weights = compute_class_weight(class_weight = \"balanced\", classes = np.unique(train_gen.classes), y = train_gen.classes)\n",
    "cw = dict(zip(np.unique(train_gen.classes), weights))\n"
   ]
  },
  {
   "cell_type": "code",
   "execution_count": 15,
   "id": "45b771da",
   "metadata": {},
   "outputs": [
    {
     "name": "stdout",
     "output_type": "stream",
     "text": [
      "Epoch 1/20\n",
      "208/208 [==============================] - 2215s 11s/step - loss: 0.4002 - accuracy: 0.8479 - val_loss: 0.3751 - val_accuracy: 0.8500\n"
     ]
    },
    {
     "name": "stderr",
     "output_type": "stream",
     "text": [
      "/home/ec2-user/anaconda3/envs/tensorflow2_p36/lib/python3.6/site-packages/keras/utils/generic_utils.py:497: CustomMaskWarning: Custom mask layers require a config and must override get_config. When loading, the custom mask layer must be passed to the custom_objects argument.\n",
      "  category=CustomMaskWarning)\n"
     ]
    },
    {
     "name": "stdout",
     "output_type": "stream",
     "text": [
      "Epoch 2/20\n",
      "208/208 [==============================] - 1382s 7s/step - loss: 0.2805 - accuracy: 0.8934 - val_loss: 0.2526 - val_accuracy: 0.9026\n",
      "Epoch 3/20\n",
      "208/208 [==============================] - 1388s 7s/step - loss: 0.2464 - accuracy: 0.9080 - val_loss: 0.3320 - val_accuracy: 0.8716\n",
      "Epoch 4/20\n",
      "208/208 [==============================] - 1392s 7s/step - loss: 0.2277 - accuracy: 0.9146 - val_loss: 0.2536 - val_accuracy: 0.9020\n",
      "\n",
      "Epoch 00004: ReduceLROnPlateau reducing learning rate to 0.0005000000237487257.\n",
      "Epoch 5/20\n",
      "208/208 [==============================] - 1390s 7s/step - loss: 0.1922 - accuracy: 0.9320 - val_loss: 0.2395 - val_accuracy: 0.9095\n",
      "Epoch 6/20\n",
      "208/208 [==============================] - 1391s 7s/step - loss: 0.1782 - accuracy: 0.9361 - val_loss: 0.2295 - val_accuracy: 0.9167\n",
      "Epoch 7/20\n",
      "208/208 [==============================] - 1390s 7s/step - loss: 0.1625 - accuracy: 0.9402 - val_loss: 0.2450 - val_accuracy: 0.9101\n",
      "Epoch 8/20\n",
      "208/208 [==============================] - 1392s 7s/step - loss: 0.1535 - accuracy: 0.9436 - val_loss: 0.2664 - val_accuracy: 0.9026\n",
      "\n",
      "Epoch 00008: ReduceLROnPlateau reducing learning rate to 0.0002500000118743628.\n",
      "Epoch 9/20\n",
      "208/208 [==============================] - 1397s 7s/step - loss: 0.1323 - accuracy: 0.9541 - val_loss: 0.2215 - val_accuracy: 0.9242\n",
      "Epoch 10/20\n",
      "208/208 [==============================] - 1395s 7s/step - loss: 0.1206 - accuracy: 0.9586 - val_loss: 0.2318 - val_accuracy: 0.9218\n",
      "Epoch 11/20\n",
      "208/208 [==============================] - 1392s 7s/step - loss: 0.1133 - accuracy: 0.9602 - val_loss: 0.2268 - val_accuracy: 0.9224\n",
      "\n",
      "Epoch 00011: ReduceLROnPlateau reducing learning rate to 0.0001250000059371814.\n",
      "Epoch 12/20\n",
      "208/208 [==============================] - 1397s 7s/step - loss: 0.1003 - accuracy: 0.9674 - val_loss: 0.2287 - val_accuracy: 0.9215\n",
      "Epoch 00012: early stopping\n"
     ]
    }
   ],
   "source": [
    "from PIL import ImageFile\n",
    "ImageFile.LOAD_TRUNCATED_IMAGES = True\n",
    "\n",
    "history = model.fit(train_gen, class_weight = cw,\n",
    "                    validation_data=valid_gen, epochs= 20, \n",
    "                    callbacks = callbacks)"
   ]
  },
  {
   "cell_type": "code",
   "execution_count": 15,
   "id": "81c9e332",
   "metadata": {},
   "outputs": [
    {
     "name": "stdout",
     "output_type": "stream",
     "text": [
      "13/13 [==============================] - 227s 18s/step - loss: 0.4129 - accuracy: 0.8550\n"
     ]
    },
    {
     "data": {
      "text/plain": [
       "[0.41287317872047424, 0.8550000190734863]"
      ]
     },
     "execution_count": 15,
     "metadata": {},
     "output_type": "execute_result"
    }
   ],
   "source": [
    "from PIL import ImageFile\n",
    "ImageFile.LOAD_TRUNCATED_IMAGES = True\n",
    "model.load_weights('./covid_classifier_model.h5')\n",
    "model.evaluate(test_gen)"
   ]
  },
  {
   "cell_type": "code",
   "execution_count": 16,
   "id": "f959853c",
   "metadata": {},
   "outputs": [],
   "source": [
    "predictions = model.predict(test_gen)"
   ]
  },
  {
   "cell_type": "code",
   "execution_count": 17,
   "id": "e8f247b7",
   "metadata": {},
   "outputs": [],
   "source": [
    "test_class=np.array([])\n",
    "prediction_class = np.array([])\n",
    "for i in range(13):\n",
    "   i, l = test_gen[i]\n",
    "   test_class = np.concatenate((test_class, np.argmax(l,axis=1)))\n",
    "   prediction_class = np.concatenate((prediction_class, np.argmax(model.predict(i),axis=1)))"
   ]
  },
  {
   "cell_type": "code",
   "execution_count": 18,
   "id": "65607d8a",
   "metadata": {},
   "outputs": [],
   "source": [
    "cm = confusion_matrix(test_class,prediction_class)"
   ]
  },
  {
   "cell_type": "code",
   "execution_count": 24,
   "id": "d6812b24",
   "metadata": {},
   "outputs": [
    {
     "data": {
      "image/png": "[encoded data removed]",
      "text/plain": [
       "<Figure size 720x720 with 2 Axes>"
      ]
     },
     "metadata": {
      "needs_background": "light"
     },
     "output_type": "display_data"
    }
   ],
   "source": [
    "import seaborn as sns\n",
    "cm = pd.DataFrame(cm , index = ['0','1','2'] , columns = ['0','1','2'])\n",
    "labels = ['COVID-19','normal','pneumonia']\n",
    "plt.figure(figsize = (10,10))\n",
    "sns.heatmap(cm,cmap= \"Blues\", linecolor = 'black' , linewidth = 1 , annot = True, fmt='',xticklabels = labels,yticklabels = labels)\n",
    "plt.title('Confusion Matrix of the ResNet Classification')\n",
    "plt.show()"
   ]
  },
  {
   "cell_type": "code",
   "execution_count": 25,
   "id": "0c79a45d",
   "metadata": {},
   "outputs": [],
   "source": [
    "def plotLearningCurve(accuracy, val_accuracy, loss, val_loss, epochs):\n",
    "  epochRange = range(1,epochs+1)\n",
    "  fig, ax = plt.subplots(1,2,figsize=(20,10))\n",
    "  ax[0].plot(epochRange,accuracy,'b',label = 'Training Accuracy')\n",
    "  ax[0].plot(epochRange,val_accuracy,'r',label = 'Validation Accuracy')\n",
    "  ax[0].set_title('Training and Validation accuracy')\n",
    "  ax[0].set_xlabel('Epoch', fontsize = 20)\n",
    "  ax[0].set_ylabel('Accuracy', fontsize = 20)\n",
    "  ax[0].legend()\n",
    "  ax[0].grid(color='gray', linestyle='--')\n",
    "  ax[1].plot(epochRange,loss,'b',label = 'Training Loss')\n",
    "  ax[1].plot(epochRange,val_loss,'r',label = 'Validation Loss')\n",
    "  ax[1].set_title('Training and Validation loss')\n",
    "  ax[1].set_xlabel('Epoch', fontsize = 20)\n",
    "  ax[1].set_ylabel('Loss', fontsize = 20)\n",
    "  ax[1].legend()\n",
    "  ax[1].grid(color='gray', linestyle='--')\n",
    "  plt.show()"
   ]
  },
  {
   "cell_type": "code",
   "execution_count": 28,
   "id": "1d723d3b",
   "metadata": {},
   "outputs": [],
   "source": [
    "# recorded acc and loss\n",
    "accuracy = [0.8479, 0.8934, 0.9080, 0.9146, 0.9320, 0.9361, 0.9402, 0.9436, 0.9541, 0.9586, 0.9602, 0.9674]\n",
    "val_accuracy = [0.8500, 0.9026, 0.8716, 0.9020, 0.9095, 0.9167, 0.9101, 0.9026, 0.9242, 0.9218, 0.9224, 0.9215]\n",
    "loss = [0.4002, 0.2805, 0.2464, 0.2277, 0.1922, 0.1782, 0.1625, 0.1535, 0.1323, 0.1206, 0.1133, 0.1003]\n",
    "val_loss = [0.3751, 0.2526, 0.3320, 0.2536, 0.2395, 0.2295, 0.2450, 0.2664, 0.2215, 0.2318, 0.2268, 0.2287]"
   ]
  },
  {
   "cell_type": "code",
   "execution_count": 30,
   "id": "0050ca37",
   "metadata": {},
   "outputs": [
    {
     "data": {
      "image/png": "[encoded data removed]",
      "text/plain": [
       "<Figure size 1440x720 with 2 Axes>"
      ]
     },
     "metadata": {
      "needs_background": "light"
     },
     "output_type": "display_data"
    }
   ],
   "source": [
    "from sklearn.metrics import confusion_matrix, classification_report\n",
    "plotLearningCurve(accuracy, val_accuracy, loss, val_loss,12)"
   ]
  }
 ],
 "metadata": {
  "kernelspec": {
   "display_name": "conda_tensorflow2_p36",
   "language": "python",
   "name": "conda_tensorflow2_p36"
  },
  "language_info": {
   "codemirror_mode": {
    "name": "ipython",
    "version": 3
   },
   "file_extension": ".py",
   "mimetype": "text/x-python",
   "name": "python",
   "nbconvert_exporter": "python",
   "pygments_lexer": "ipython3",
   "version": "3.6.13"
  }
 },
 "nbformat": 4,
 "nbformat_minor": 5
}
