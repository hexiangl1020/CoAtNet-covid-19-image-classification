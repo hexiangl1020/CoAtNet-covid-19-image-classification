{
  "nbformat": 4,
  "nbformat_minor": 0,
  "metadata": {
    "colab": {
      "name": "519 demo 2.ipynb",
      "provenance": [],
      "collapsed_sections": []
    },
    "kernelspec": {
      "name": "python3",
      "display_name": "Python 3"
    },
    "language_info": {
      "name": "python"
    },
    "accelerator": "GPU"
  },
  "cells": [
    {
      "cell_type": "code",
      "execution_count": null,
      "metadata": {
        "id": "Sl6bs4jGkzm4"
      },
      "outputs": [],
      "source": [
        "import numpy as np\n",
        "import pandas as pd\n",
        "import os\n",
        "import PIL\n",
        "import cv2\n",
        "import tensorflow as tf\n",
        "from tensorflow import keras\n",
        "from tensorflow.keras.optimizers import Adam\n",
        "from tensorflow.keras.preprocessing.image import ImageDataGenerator\n",
        "import matplotlib.pyplot as plt\n",
        "from matplotlib.pyplot import imshow\n",
        "from sklearn.model_selection import train_test_split\n",
        "import matplotlib.pyplot as plt\n",
        "from matplotlib.pyplot import imshow\n",
        "import shutil\n",
        "from sklearn.metrics import confusion_matrix, classification_report\n",
        "from sklearn.metrics import roc_curve,roc_auc_score\n",
        "\n"
      ]
    },
    {
      "cell_type": "code",
      "source": [
        "from google.colab import drive\n",
        "drive.mount('/content/drive')"
      ],
      "metadata": {
        "colab": {
          "base_uri": "https://localhost:8080/"
        },
        "id": "7qJoMsSlEw4v",
        "outputId": "f0963f1d-b51f-4978-8cf9-354132313db7"
      },
      "execution_count": null,
      "outputs": [
        {
          "output_type": "stream",
          "name": "stdout",
          "text": [
            "Mounted at /content/drive\n"
          ]
        }
      ]
    },
    {
      "cell_type": "code",
      "source": [
        "#pandas.read_csv(\"/content/drive/My Drive/folder_0/folder_1/file.csv\")\n",
        "train_df = pd.read_csv('/content/drive/Shareddrives/519 project/train_COVIDx9A.txt', sep=\" \", header=None)\n",
        "\n",
        "#Columns are added because it was seen that column names were 0,1,2,3, so new column names are added\n",
        "#which are given in descriptions\n",
        "train_df.columns=['patient id', 'filename', 'class', 'data source']\n",
        "\n",
        "# Since we are doing image classification, patient id and data source is of no importance to us, so\n",
        "#we cn drop them\n",
        "train_df=train_df.drop(['patient id', 'data source'], axis=1 )"
      ],
      "metadata": {
        "id": "dwSjXdQsk6A4"
      },
      "execution_count": null,
      "outputs": []
    },
    {
      "cell_type": "code",
      "source": [
        "train_df.head()"
      ],
      "metadata": {
        "colab": {
          "base_uri": "https://localhost:8080/",
          "height": 206
        },
        "id": "1vZu-BY3tLTC",
        "outputId": "b72b3da8-b407-4fe4-94d1-8ac8b3ab1cc3"
      },
      "execution_count": null,
      "outputs": [
        {
          "output_type": "execute_result",
          "data": {
            "text/plain": [
              "                                            filename      class\n",
              "0  SARS-10.1148rg.242035193-g04mr34g0-Fig8a-day0....  pneumonia\n",
              "1  SARS-10.1148rg.242035193-g04mr34g0-Fig8b-day5....  pneumonia\n",
              "2  SARS-10.1148rg.242035193-g04mr34g0-Fig8c-day10...  pneumonia\n",
              "3  SARS-10.1148rg.242035193-g04mr34g04a-Fig4a-day...  pneumonia\n",
              "4  SARS-10.1148rg.242035193-g04mr34g04b-Fig4b-day...  pneumonia"
            ],
            "text/html": [
              "\n",
              "  <div id=\"df-acfa2cf8-7964-4d88-9d2e-9d5aee5a370b\">\n",
              "    <div class=\"colab-df-container\">\n",
              "      <div>\n",
              "<style scoped>\n",
              "    .dataframe tbody tr th:only-of-type {\n",
              "        vertical-align: middle;\n",
              "    }\n",
              "\n",
              "    .dataframe tbody tr th {\n",
              "        vertical-align: top;\n",
              "    }\n",
              "\n",
              "    .dataframe thead th {\n",
              "        text-align: right;\n",
              "    }\n",
              "</style>\n",
              "<table border=\"1\" class=\"dataframe\">\n",
              "  <thead>\n",
              "    <tr style=\"text-align: right;\">\n",
              "      <th></th>\n",
              "      <th>filename</th>\n",
              "      <th>class</th>\n",
              "    </tr>\n",
              "  </thead>\n",
              "  <tbody>\n",
              "    <tr>\n",
              "      <th>0</th>\n",
              "      <td>SARS-10.1148rg.242035193-g04mr34g0-Fig8a-day0....</td>\n",
              "      <td>pneumonia</td>\n",
              "    </tr>\n",
              "    <tr>\n",
              "      <th>1</th>\n",
              "      <td>SARS-10.1148rg.242035193-g04mr34g0-Fig8b-day5....</td>\n",
              "      <td>pneumonia</td>\n",
              "    </tr>\n",
              "    <tr>\n",
              "      <th>2</th>\n",
              "      <td>SARS-10.1148rg.242035193-g04mr34g0-Fig8c-day10...</td>\n",
              "      <td>pneumonia</td>\n",
              "    </tr>\n",
              "    <tr>\n",
              "      <th>3</th>\n",
              "      <td>SARS-10.1148rg.242035193-g04mr34g04a-Fig4a-day...</td>\n",
              "      <td>pneumonia</td>\n",
              "    </tr>\n",
              "    <tr>\n",
              "      <th>4</th>\n",
              "      <td>SARS-10.1148rg.242035193-g04mr34g04b-Fig4b-day...</td>\n",
              "      <td>pneumonia</td>\n",
              "    </tr>\n",
              "  </tbody>\n",
              "</table>\n",
              "</div>\n",
              "      <button class=\"colab-df-convert\" onclick=\"convertToInteractive('df-acfa2cf8-7964-4d88-9d2e-9d5aee5a370b')\"\n",
              "              title=\"Convert this dataframe to an interactive table.\"\n",
              "              style=\"display:none;\">\n",
              "        \n",
              "  <svg xmlns=\"http://www.w3.org/2000/svg\" height=\"24px\"viewBox=\"0 0 24 24\"\n",
              "       width=\"24px\">\n",
              "    <path d=\"M0 0h24v24H0V0z\" fill=\"none\"/>\n",
              "    <path d=\"M18.56 5.44l.94 2.06.94-2.06 2.06-.94-2.06-.94-.94-2.06-.94 2.06-2.06.94zm-11 1L8.5 8.5l.94-2.06 2.06-.94-2.06-.94L8.5 2.5l-.94 2.06-2.06.94zm10 10l.94 2.06.94-2.06 2.06-.94-2.06-.94-.94-2.06-.94 2.06-2.06.94z\"/><path d=\"M17.41 7.96l-1.37-1.37c-.4-.4-.92-.59-1.43-.59-.52 0-1.04.2-1.43.59L10.3 9.45l-7.72 7.72c-.78.78-.78 2.05 0 2.83L4 21.41c.39.39.9.59 1.41.59.51 0 1.02-.2 1.41-.59l7.78-7.78 2.81-2.81c.8-.78.8-2.07 0-2.86zM5.41 20L4 18.59l7.72-7.72 1.47 1.35L5.41 20z\"/>\n",
              "  </svg>\n",
              "      </button>\n",
              "      \n",
              "  <style>\n",
              "    .colab-df-container {\n",
              "      display:flex;\n",
              "      flex-wrap:wrap;\n",
              "      gap: 12px;\n",
              "    }\n",
              "\n",
              "    .colab-df-convert {\n",
              "      background-color: #E8F0FE;\n",
              "      border: none;\n",
              "      border-radius: 50%;\n",
              "      cursor: pointer;\n",
              "      display: none;\n",
              "      fill: #1967D2;\n",
              "      height: 32px;\n",
              "      padding: 0 0 0 0;\n",
              "      width: 32px;\n",
              "    }\n",
              "\n",
              "    .colab-df-convert:hover {\n",
              "      background-color: #E2EBFA;\n",
              "      box-shadow: 0px 1px 2px rgba(60, 64, 67, 0.3), 0px 1px 3px 1px rgba(60, 64, 67, 0.15);\n",
              "      fill: #174EA6;\n",
              "    }\n",
              "\n",
              "    [theme=dark] .colab-df-convert {\n",
              "      background-color: #3B4455;\n",
              "      fill: #D2E3FC;\n",
              "    }\n",
              "\n",
              "    [theme=dark] .colab-df-convert:hover {\n",
              "      background-color: #434B5C;\n",
              "      box-shadow: 0px 1px 3px 1px rgba(0, 0, 0, 0.15);\n",
              "      filter: drop-shadow(0px 1px 2px rgba(0, 0, 0, 0.3));\n",
              "      fill: #FFFFFF;\n",
              "    }\n",
              "  </style>\n",
              "\n",
              "      <script>\n",
              "        const buttonEl =\n",
              "          document.querySelector('#df-acfa2cf8-7964-4d88-9d2e-9d5aee5a370b button.colab-df-convert');\n",
              "        buttonEl.style.display =\n",
              "          google.colab.kernel.accessAllowed ? 'block' : 'none';\n",
              "\n",
              "        async function convertToInteractive(key) {\n",
              "          const element = document.querySelector('#df-acfa2cf8-7964-4d88-9d2e-9d5aee5a370b');\n",
              "          const dataTable =\n",
              "            await google.colab.kernel.invokeFunction('convertToInteractive',\n",
              "                                                     [key], {});\n",
              "          if (!dataTable) return;\n",
              "\n",
              "          const docLinkHtml = 'Like what you see? Visit the ' +\n",
              "            '<a target=\"_blank\" href=https://colab.research.google.com/notebooks/data_table.ipynb>data table notebook</a>'\n",
              "            + ' to learn more about interactive tables.';\n",
              "          element.innerHTML = '';\n",
              "          dataTable['output_type'] = 'display_data';\n",
              "          await google.colab.output.renderOutput(dataTable, element);\n",
              "          const docLink = document.createElement('div');\n",
              "          docLink.innerHTML = docLinkHtml;\n",
              "          element.appendChild(docLink);\n",
              "        }\n",
              "      </script>\n",
              "    </div>\n",
              "  </div>\n",
              "  "
            ]
          },
          "metadata": {},
          "execution_count": 5
        }
      ]
    },
    {
      "cell_type": "code",
      "source": [
        "test_df = pd.read_csv('/content/drive/Shareddrives/519 project/test_COVIDx9A.txt', sep=\" \", header=None)\n",
        "test_df.columns=['id', 'filename', 'class', 'data source' ]\n",
        "test_df=test_df.drop(['id', 'data source'], axis=1 )"
      ],
      "metadata": {
        "id": "3BJSMjMDlU0-"
      },
      "execution_count": null,
      "outputs": []
    },
    {
      "cell_type": "code",
      "source": [
        "test_df.head()"
      ],
      "metadata": {
        "colab": {
          "base_uri": "https://localhost:8080/",
          "height": 206
        },
        "id": "xesVCMTctMeX",
        "outputId": "d4a5d52e-c1c1-451f-c471-92fcee9bbc88"
      },
      "execution_count": null,
      "outputs": [
        {
          "output_type": "execute_result",
          "data": {
            "text/plain": [
              "                                    filename     class\n",
              "0  MIDRC-RICORD-1C-419639-003251-46647-0.png  COVID-19\n",
              "1  MIDRC-RICORD-1C-419639-001464-39871-0.png  COVID-19\n",
              "2  MIDRC-RICORD-1C-419639-000918-78965-0.png  COVID-19\n",
              "3  MIDRC-RICORD-1C-419639-003318-64285-0.png  COVID-19\n",
              "4  MIDRC-RICORD-1C-419639-001015-81591-0.png  COVID-19"
            ],
            "text/html": [
              "\n",
              "  <div id=\"df-45f20fda-750e-4708-abb5-380a652c924d\">\n",
              "    <div class=\"colab-df-container\">\n",
              "      <div>\n",
              "<style scoped>\n",
              "    .dataframe tbody tr th:only-of-type {\n",
              "        vertical-align: middle;\n",
              "    }\n",
              "\n",
              "    .dataframe tbody tr th {\n",
              "        vertical-align: top;\n",
              "    }\n",
              "\n",
              "    .dataframe thead th {\n",
              "        text-align: right;\n",
              "    }\n",
              "</style>\n",
              "<table border=\"1\" class=\"dataframe\">\n",
              "  <thead>\n",
              "    <tr style=\"text-align: right;\">\n",
              "      <th></th>\n",
              "      <th>filename</th>\n",
              "      <th>class</th>\n",
              "    </tr>\n",
              "  </thead>\n",
              "  <tbody>\n",
              "    <tr>\n",
              "      <th>0</th>\n",
              "      <td>MIDRC-RICORD-1C-419639-003251-46647-0.png</td>\n",
              "      <td>COVID-19</td>\n",
              "    </tr>\n",
              "    <tr>\n",
              "      <th>1</th>\n",
              "      <td>MIDRC-RICORD-1C-419639-001464-39871-0.png</td>\n",
              "      <td>COVID-19</td>\n",
              "    </tr>\n",
              "    <tr>\n",
              "      <th>2</th>\n",
              "      <td>MIDRC-RICORD-1C-419639-000918-78965-0.png</td>\n",
              "      <td>COVID-19</td>\n",
              "    </tr>\n",
              "    <tr>\n",
              "      <th>3</th>\n",
              "      <td>MIDRC-RICORD-1C-419639-003318-64285-0.png</td>\n",
              "      <td>COVID-19</td>\n",
              "    </tr>\n",
              "    <tr>\n",
              "      <th>4</th>\n",
              "      <td>MIDRC-RICORD-1C-419639-001015-81591-0.png</td>\n",
              "      <td>COVID-19</td>\n",
              "    </tr>\n",
              "  </tbody>\n",
              "</table>\n",
              "</div>\n",
              "      <button class=\"colab-df-convert\" onclick=\"convertToInteractive('df-45f20fda-750e-4708-abb5-380a652c924d')\"\n",
              "              title=\"Convert this dataframe to an interactive table.\"\n",
              "              style=\"display:none;\">\n",
              "        \n",
              "  <svg xmlns=\"http://www.w3.org/2000/svg\" height=\"24px\"viewBox=\"0 0 24 24\"\n",
              "       width=\"24px\">\n",
              "    <path d=\"M0 0h24v24H0V0z\" fill=\"none\"/>\n",
              "    <path d=\"M18.56 5.44l.94 2.06.94-2.06 2.06-.94-2.06-.94-.94-2.06-.94 2.06-2.06.94zm-11 1L8.5 8.5l.94-2.06 2.06-.94-2.06-.94L8.5 2.5l-.94 2.06-2.06.94zm10 10l.94 2.06.94-2.06 2.06-.94-2.06-.94-.94-2.06-.94 2.06-2.06.94z\"/><path d=\"M17.41 7.96l-1.37-1.37c-.4-.4-.92-.59-1.43-.59-.52 0-1.04.2-1.43.59L10.3 9.45l-7.72 7.72c-.78.78-.78 2.05 0 2.83L4 21.41c.39.39.9.59 1.41.59.51 0 1.02-.2 1.41-.59l7.78-7.78 2.81-2.81c.8-.78.8-2.07 0-2.86zM5.41 20L4 18.59l7.72-7.72 1.47 1.35L5.41 20z\"/>\n",
              "  </svg>\n",
              "      </button>\n",
              "      \n",
              "  <style>\n",
              "    .colab-df-container {\n",
              "      display:flex;\n",
              "      flex-wrap:wrap;\n",
              "      gap: 12px;\n",
              "    }\n",
              "\n",
              "    .colab-df-convert {\n",
              "      background-color: #E8F0FE;\n",
              "      border: none;\n",
              "      border-radius: 50%;\n",
              "      cursor: pointer;\n",
              "      display: none;\n",
              "      fill: #1967D2;\n",
              "      height: 32px;\n",
              "      padding: 0 0 0 0;\n",
              "      width: 32px;\n",
              "    }\n",
              "\n",
              "    .colab-df-convert:hover {\n",
              "      background-color: #E2EBFA;\n",
              "      box-shadow: 0px 1px 2px rgba(60, 64, 67, 0.3), 0px 1px 3px 1px rgba(60, 64, 67, 0.15);\n",
              "      fill: #174EA6;\n",
              "    }\n",
              "\n",
              "    [theme=dark] .colab-df-convert {\n",
              "      background-color: #3B4455;\n",
              "      fill: #D2E3FC;\n",
              "    }\n",
              "\n",
              "    [theme=dark] .colab-df-convert:hover {\n",
              "      background-color: #434B5C;\n",
              "      box-shadow: 0px 1px 3px 1px rgba(0, 0, 0, 0.15);\n",
              "      filter: drop-shadow(0px 1px 2px rgba(0, 0, 0, 0.3));\n",
              "      fill: #FFFFFF;\n",
              "    }\n",
              "  </style>\n",
              "\n",
              "      <script>\n",
              "        const buttonEl =\n",
              "          document.querySelector('#df-45f20fda-750e-4708-abb5-380a652c924d button.colab-df-convert');\n",
              "        buttonEl.style.display =\n",
              "          google.colab.kernel.accessAllowed ? 'block' : 'none';\n",
              "\n",
              "        async function convertToInteractive(key) {\n",
              "          const element = document.querySelector('#df-45f20fda-750e-4708-abb5-380a652c924d');\n",
              "          const dataTable =\n",
              "            await google.colab.kernel.invokeFunction('convertToInteractive',\n",
              "                                                     [key], {});\n",
              "          if (!dataTable) return;\n",
              "\n",
              "          const docLinkHtml = 'Like what you see? Visit the ' +\n",
              "            '<a target=\"_blank\" href=https://colab.research.google.com/notebooks/data_table.ipynb>data table notebook</a>'\n",
              "            + ' to learn more about interactive tables.';\n",
              "          element.innerHTML = '';\n",
              "          dataTable['output_type'] = 'display_data';\n",
              "          await google.colab.output.renderOutput(dataTable, element);\n",
              "          const docLink = document.createElement('div');\n",
              "          docLink.innerHTML = docLinkHtml;\n",
              "          element.appendChild(docLink);\n",
              "        }\n",
              "      </script>\n",
              "    </div>\n",
              "  </div>\n",
              "  "
            ]
          },
          "metadata": {},
          "execution_count": 6
        }
      ]
    },
    {
      "cell_type": "code",
      "source": [
        "train_df['class'].value_counts()"
      ],
      "metadata": {
        "colab": {
          "base_uri": "https://localhost:8080/"
        },
        "id": "WG2oDyZutRfz",
        "outputId": "5b2d683c-8b0d-4926-c8e3-5dcc4f7e2710"
      },
      "execution_count": null,
      "outputs": [
        {
          "output_type": "execute_result",
          "data": {
            "text/plain": [
              "pneumonia    5555\n",
              "normal       5555\n",
              "COVID-19     5555\n",
              "Name: class, dtype: int64"
            ]
          },
          "metadata": {},
          "execution_count": 32
        }
      ]
    },
    {
      "cell_type": "code",
      "source": [
        "covid  = train_df[train_df['class']=='COVID-19']   #negative values in class column\n",
        "normal = train_df[train_df['class']=='normal']  #positive values in class column\n",
        "pneumonia = train_df[train_df['class']=='pneumonia']\n",
        "from sklearn.utils import resample\n",
        "#majority class that  is negative, we need to downsample/decrease that class so that there is no bias\n",
        "#n_samples = 2158 means we want 2158 sample of class negative, since there are 2158 samples of class positive\n",
        "df_covid_downsampled = resample(covid, replace = True, n_samples = 5555) \n",
        "df_normal_downsampled = resample(normal, replace = True, n_samples = 5555)\n",
        "#concatenate\n",
        "train_df = pd.concat([pneumonia, df_covid_downsampled,df_normal_downsampled])\n",
        "\n",
        "from sklearn.utils import shuffle\n",
        "train_df = shuffle(train_df) # shuffling so that there is particular sequence"
      ],
      "metadata": {
        "id": "BArjDggUt22-"
      },
      "execution_count": null,
      "outputs": []
    },
    {
      "cell_type": "code",
      "source": [
        "train_df['class'].value_counts()"
      ],
      "metadata": {
        "colab": {
          "base_uri": "https://localhost:8080/"
        },
        "id": "FKbwZHrrt36B",
        "outputId": "b4111307-2afb-4e39-e54d-b398fbbd30f8"
      },
      "execution_count": null,
      "outputs": [
        {
          "output_type": "execute_result",
          "data": {
            "text/plain": [
              "COVID-19     5555\n",
              "pneumonia    5555\n",
              "normal       5555\n",
              "Name: class, dtype: int64"
            ]
          },
          "metadata": {},
          "execution_count": 34
        }
      ]
    },
    {
      "cell_type": "code",
      "source": [
        "test_df['class'].value_counts()"
      ],
      "metadata": {
        "colab": {
          "base_uri": "https://localhost:8080/"
        },
        "id": "IJ4BGi42totv",
        "outputId": "e1d2b6dc-84e2-472c-9406-2635ddfe6273"
      },
      "execution_count": null,
      "outputs": [
        {
          "output_type": "execute_result",
          "data": {
            "text/plain": [
              "COVID-19     200\n",
              "normal       100\n",
              "pneumonia    100\n",
              "Name: class, dtype: int64"
            ]
          },
          "metadata": {},
          "execution_count": 35
        }
      ]
    },
    {
      "cell_type": "code",
      "source": [
        "train_data, valid_data = train_test_split(train_df, train_size=0.8, random_state=0)"
      ],
      "metadata": {
        "id": "5G6i8a0jlltE"
      },
      "execution_count": null,
      "outputs": []
    },
    {
      "cell_type": "code",
      "source": [
        "train_path = '/content/drive/Shareddrives/519 project/train_30000/'  #directory path\n",
        "test_path = '/content/drive/Shareddrives/519 project/test.zip (Unzipped Files)'"
      ],
      "metadata": {
        "id": "-Hh6uXG0l1-z"
      },
      "execution_count": null,
      "outputs": []
    },
    {
      "cell_type": "code",
      "source": [
        "#train_datagen = ImageDataGenerator(rescale = 1./255.,rotation_range = 40, width_shift_range = 0.2, height_shift_range = 0.2, \n",
        "                                   #shear_range = 0.2, zoom_range = 0.2, horizontal_flip = True, vertical_flip =True)\n",
        "train_datagen = ImageDataGenerator(rescale = 1./255., shear_range = 0.2)\n",
        "test_datagen = ImageDataGenerator(rescale = 1.0/255.)\n",
        "\n",
        "#Now fit the them to get the images from directory (name of the images are given in dataframe) with augmentation\n",
        "\n",
        "\n",
        "train_gen = train_datagen.flow_from_dataframe(dataframe = train_data, directory=train_path, x_col='filename', \n",
        "                                              y_col='class', target_size=(300,300), batch_size=64, \n",
        "                                               classes=['COVID-19','normal','pneumonia'])\n",
        "valid_gen = test_datagen.flow_from_dataframe(dataframe = valid_data, directory=train_path, x_col='filename',\n",
        "                                             y_col='class', target_size=(300,300), batch_size=64, \n",
        "                                            classes=['COVID-19','normal','pneumonia'])\n",
        "test_gen = test_datagen.flow_from_dataframe(dataframe = test_df, directory=test_path, x_col='filename', \n",
        "                                            y_col='class', target_size=(300,300), batch_size=32,\n",
        "                                             classes=['COVID-19','normal','pneumonia'])"
      ],
      "metadata": {
        "id": "q0Eg0OaYl2s5",
        "colab": {
          "base_uri": "https://localhost:8080/"
        },
        "outputId": "786e506e-ccac-43dd-c784-27424849e3f9"
      },
      "execution_count": null,
      "outputs": [
        {
          "output_type": "stream",
          "name": "stderr",
          "text": [
            "/usr/local/lib/python3.7/dist-packages/keras_preprocessing/image/dataframe_iterator.py:282: UserWarning: Found 10603 invalid image filename(s) in x_col=\"filename\". These filename(s) will be ignored.\n",
            "  .format(n_invalid, x_col)\n"
          ]
        },
        {
          "output_type": "stream",
          "name": "stdout",
          "text": [
            "Found 2729 validated image filenames belonging to 3 classes.\n",
            "Found 650 validated image filenames belonging to 3 classes.\n",
            "Found 400 validated image filenames belonging to 3 classes.\n"
          ]
        },
        {
          "output_type": "stream",
          "name": "stderr",
          "text": [
            "/usr/local/lib/python3.7/dist-packages/keras_preprocessing/image/dataframe_iterator.py:282: UserWarning: Found 2683 invalid image filename(s) in x_col=\"filename\". These filename(s) will be ignored.\n",
            "  .format(n_invalid, x_col)\n"
          ]
        }
      ]
    },
    {
      "cell_type": "code",
      "source": [
        "import tensorflow as tf\n",
        "#Our base model is InceptionResNetV2, new readers are encouraged to see the architecture of this particular model\n",
        "\n",
        "base_model = tf.keras.applications.ResNet50V2(weights='imagenet', input_shape = (300,300,3),\n",
        "                                                     include_top=False,classifier_activation='softmax')\n",
        "for layer in base_model.layers:\n",
        "    layer.trainable = False"
      ],
      "metadata": {
        "id": "i5C9zO5jmE64",
        "colab": {
          "base_uri": "https://localhost:8080/"
        },
        "outputId": "2ca71135-6a72-4ba0-b26c-5eeb74611448"
      },
      "execution_count": null,
      "outputs": [
        {
          "output_type": "stream",
          "name": "stdout",
          "text": [
            "Downloading data from https://storage.googleapis.com/tensorflow/keras-applications/resnet/resnet50v2_weights_tf_dim_ordering_tf_kernels_notop.h5\n",
            "94674944/94668760 [==============================] - 1s 0us/step\n",
            "94683136/94668760 [==============================] - 1s 0us/step\n"
          ]
        }
      ]
    },
    {
      "cell_type": "code",
      "source": [
        "def plotLearningCurve(history,epochs):\n",
        "  epochRange = range(1,epochs+1)\n",
        "  fig, ax = plt.subplots(1,2,figsize=(20,10))\n",
        "  ax[0].plot(epochRange,history.history['accuracy'],'b',label = 'Training Accuracy')\n",
        "  ax[0].plot(epochRange,history.history['val_accuracy'],'r',label = 'Validation Accuracy')\n",
        "  ax[0].set_title('Training and Validation accuracy')\n",
        "  ax[0].set_xlabel('Epoch', fontsize = 20)\n",
        "  ax[0].set_ylabel('Accuracy', fontsize = 20)\n",
        "  ax[0].legend()\n",
        "  ax[0].grid(color='gray', linestyle='--')\n",
        "  ax[1].plot(epochRange,history.history['loss'],'b',label = 'Training Loss')\n",
        "  ax[1].plot(epochRange,history.history['val_loss'],'r',label = 'Validation Loss')\n",
        "  ax[1].set_title('Training and Validation loss')\n",
        "  ax[1].set_xlabel('Epoch', fontsize = 20)\n",
        "  ax[1].set_ylabel('Loss', fontsize = 20)\n",
        "  ax[1].legend()\n",
        "  ax[1].grid(color='gray', linestyle='--')\n",
        "  plt.show()"
      ],
      "metadata": {
        "id": "rWFeSIWLFGmD"
      },
      "execution_count": null,
      "outputs": []
    },
    {
      "cell_type": "code",
      "source": [
        "#Now we will add some more layers to the base model for our requirements\n",
        "\n",
        "model = tf.keras.Sequential([\n",
        "    base_model, \n",
        "    tf.keras.layers.GlobalAveragePooling2D(), \n",
        "    #tf.keras.layers.Conv2D(128, (3, 3), activation='relu', input_shape = (200,200,3)),\n",
        "    ##tf.keras.layers.MaxPool2D(pool_size=(2, 2), padding='valid'),\n",
        "    #tf.keras.layers.Flatten(),\n",
        "    tf.keras.layers.Dense(128, activation='relu'),\n",
        "    tf.keras.layers.BatchNormalization(), \n",
        "    tf.keras.layers.Dropout(0.2), \n",
        "    tf.keras.layers.Dense(3, activation='softmax')\n",
        "])\n",
        "\n",
        "callbacks = [\n",
        "    tf.keras.callbacks.ModelCheckpoint(\"covid_classifier_model.h5\", save_best_only=True, verbose = 0),\n",
        "    tf.keras.callbacks.EarlyStopping(patience=3, monitor='val_loss', mode = \"min\", verbose=1),\n",
        "    tf.keras.callbacks.ReduceLROnPlateau(monitor='val_loss', factor=0.5, patience=2, verbose=1)\n",
        "]\n",
        "\n",
        "model.compile(optimizer = keras.optimizers.Adam(learning_rate=0.001),\n",
        "              loss = 'categorical_crossentropy',\n",
        "              metrics=['accuracy'])"
      ],
      "metadata": {
        "id": "S-d9bN7rnT9v"
      },
      "execution_count": null,
      "outputs": []
    },
    {
      "cell_type": "code",
      "source": [
        "from sklearn.utils.class_weight import compute_class_weight\n",
        "\n",
        "weights = compute_class_weight(class_weight = \"balanced\", classes = np.unique(train_gen.classes), y = train_gen.classes)\n",
        "cw = dict(zip(np.unique(train_gen.classes), weights))\n"
      ],
      "metadata": {
        "id": "OPfCPmkYu644"
      },
      "execution_count": null,
      "outputs": []
    },
    {
      "cell_type": "code",
      "source": [
        "history = model.fit(train_gen, class_weight = cw,\n",
        "                    validation_data=valid_gen, epochs= 20, \n",
        "                    callbacks = callbacks)"
      ],
      "metadata": {
        "colab": {
          "base_uri": "https://localhost:8080/"
        },
        "id": "sco2XVaCn2VW",
        "outputId": "c6d49f8c-c35b-4485-e167-0975d0fc0aba"
      },
      "execution_count": null,
      "outputs": [
        {
          "output_type": "stream",
          "name": "stdout",
          "text": [
            "Epoch 1/20\n",
            "43/43 [==============================] - 1925s 44s/step - loss: 0.4872 - accuracy: 0.8139 - val_loss: 0.4327 - val_accuracy: 0.8108 - lr: 0.0010\n",
            "Epoch 2/20\n",
            "43/43 [==============================] - 101s 2s/step - loss: 0.2696 - accuracy: 0.8985 - val_loss: 0.3200 - val_accuracy: 0.8815 - lr: 0.0010\n",
            "Epoch 3/20\n",
            "43/43 [==============================] - 99s 2s/step - loss: 0.2131 - accuracy: 0.9296 - val_loss: 0.3244 - val_accuracy: 0.8831 - lr: 0.0010\n",
            "Epoch 4/20\n",
            "43/43 [==============================] - ETA: 0s - loss: 0.1684 - accuracy: 0.9403\n",
            "Epoch 4: ReduceLROnPlateau reducing learning rate to 0.0005000000237487257.\n",
            "43/43 [==============================] - 101s 2s/step - loss: 0.1684 - accuracy: 0.9403 - val_loss: 0.3831 - val_accuracy: 0.8462 - lr: 0.0010\n",
            "Epoch 5/20\n",
            "43/43 [==============================] - 101s 2s/step - loss: 0.1200 - accuracy: 0.9648 - val_loss: 0.3037 - val_accuracy: 0.8769 - lr: 5.0000e-04\n",
            "Epoch 6/20\n",
            "43/43 [==============================] - 102s 2s/step - loss: 0.0979 - accuracy: 0.9733 - val_loss: 0.2777 - val_accuracy: 0.8954 - lr: 5.0000e-04\n",
            "Epoch 7/20\n",
            "43/43 [==============================] - 99s 2s/step - loss: 0.0809 - accuracy: 0.9791 - val_loss: 0.2806 - val_accuracy: 0.8923 - lr: 5.0000e-04\n",
            "Epoch 8/20\n",
            "43/43 [==============================] - 98s 2s/step - loss: 0.0722 - accuracy: 0.9813 - val_loss: 0.2616 - val_accuracy: 0.8923 - lr: 5.0000e-04\n",
            "Epoch 9/20\n",
            "43/43 [==============================] - 99s 2s/step - loss: 0.0610 - accuracy: 0.9846 - val_loss: 0.2928 - val_accuracy: 0.8877 - lr: 5.0000e-04\n",
            "Epoch 10/20\n",
            "43/43 [==============================] - ETA: 0s - loss: 0.0490 - accuracy: 0.9912\n",
            "Epoch 10: ReduceLROnPlateau reducing learning rate to 0.0002500000118743628.\n",
            "43/43 [==============================] - 100s 2s/step - loss: 0.0490 - accuracy: 0.9912 - val_loss: 0.3062 - val_accuracy: 0.8800 - lr: 5.0000e-04\n",
            "Epoch 11/20\n",
            "43/43 [==============================] - 100s 2s/step - loss: 0.0385 - accuracy: 0.9919 - val_loss: 0.2758 - val_accuracy: 0.8969 - lr: 2.5000e-04\n",
            "Epoch 11: early stopping\n"
          ]
        }
      ]
    },
    {
      "cell_type": "code",
      "source": [
        "#model.load_weights('./covid_classifier_model.h5')\n",
        "model.evaluate(test_gen)"
      ],
      "metadata": {
        "colab": {
          "base_uri": "https://localhost:8080/"
        },
        "id": "8EDzctKVJEaG",
        "outputId": "292dc2bc-6ff4-4968-8ce0-57e51d2912b2"
      },
      "execution_count": null,
      "outputs": [
        {
          "output_type": "stream",
          "name": "stdout",
          "text": [
            "13/13 [==============================] - 335s 27s/step - loss: 0.6038 - accuracy: 0.7925\n"
          ]
        },
        {
          "output_type": "execute_result",
          "data": {
            "text/plain": [
              "[0.6038158535957336, 0.7925000190734863]"
            ]
          },
          "metadata": {},
          "execution_count": 14
        }
      ]
    },
    {
      "cell_type": "code",
      "source": [
        "predictions = model.predict(test_gen)"
      ],
      "metadata": {
        "id": "G-bpQHFR6iJu"
      },
      "execution_count": null,
      "outputs": []
    },
    {
      "cell_type": "code",
      "source": [
        "test_class=np.array([])\n",
        "prediction_class = np.array([])\n",
        "for i in range(13):\n",
        "   i, l = test_gen[i]\n",
        "   test_class = np.concatenate((test_class, np.argmax(l,axis=1)))\n",
        "   prediction_class = np.concatenate((prediction_class, np.argmax(model.predict(i),axis=1)))"
      ],
      "metadata": {
        "id": "cHFmqyEOazRP"
      },
      "execution_count": null,
      "outputs": []
    },
    {
      "cell_type": "code",
      "source": [
        "cm = confusion_matrix(test_class,prediction_class)"
      ],
      "metadata": {
        "id": "HRCQs4_mbCUb"
      },
      "execution_count": null,
      "outputs": []
    },
    {
      "cell_type": "code",
      "source": [
        "import seaborn as sns\n",
        "cm = pd.DataFrame(cm , index = ['0','1','2'] , columns = ['0','1','2'])\n",
        "labels = ['COVID-19','normal','pneumonia']\n",
        "plt.figure(figsize = (10,10))\n",
        "sns.heatmap(cm,cmap= \"Blues\", linecolor = 'black' , linewidth = 1 , annot = True, fmt='',xticklabels = labels,yticklabels = labels)\n",
        "plt.title('Confusion Matrix of the ResNet Classification')\n",
        "plt.show()"
      ],
      "metadata": {
        "colab": {
          "base_uri": "https://localhost:8080/",
          "height": 627
        },
        "id": "2-hHYuJ4cz9L",
        "outputId": "bf62ca78-06d2-4a7c-e9ba-7fa39d8ab315"
      },
      "execution_count": null,
      "outputs": [
        {
          "output_type": "display_data",
          "data": {
            "text/plain": [
              "<Figure size 720x720 with 2 Axes>"
            ],
            "image/png": "[encoded data removed]"
          },
          "metadata": {
            "needs_background": "light"
          }
        }
      ]
    },
    {
      "cell_type": "code",
      "source": [
        "plotLearningCurve(history,11)"
      ],
      "metadata": {
        "colab": {
          "base_uri": "https://localhost:8080/",
          "height": 650
        },
        "id": "8NdUeXgDXiMi",
        "outputId": "0e0f9a45-bbe1-4c4a-e91f-8810f878249d"
      },
      "execution_count": null,
      "outputs": [
        {
          "output_type": "display_data",
          "data": {
            "text/plain": [
              "<Figure size 1440x720 with 2 Axes>"
            ],
            "image/png": "[encoded data removed]"
          },
          "metadata": {
            "needs_background": "light"
          }
        }
      ]
    }
  ]
}